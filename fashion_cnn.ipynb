{
  "nbformat": 4,
  "nbformat_minor": 0,
  "metadata": {
    "colab": {
      "provenance": [],
      "authorship_tag": "ABX9TyPgTBepb4iqPGM9radFYD72",
      "include_colab_link": true
    },
    "kernelspec": {
      "name": "python3",
      "display_name": "Python 3"
    },
    "language_info": {
      "name": "python"
    }
  },
  "cells": [
    {
      "cell_type": "markdown",
      "metadata": {
        "id": "view-in-github",
        "colab_type": "text"
      },
      "source": [
        "<a href=\"https://colab.research.google.com/github/Palala-Baka/Test-Project/blob/main/fashion_cnn.ipynb\" target=\"_parent\"><img src=\"https://colab.research.google.com/assets/colab-badge.svg\" alt=\"Open In Colab\"/></a>"
      ]
    },
    {
      "cell_type": "code",
      "execution_count": 1,
      "metadata": {
        "colab": {
          "base_uri": "https://localhost:8080/"
        },
        "id": "Cn5BCqyScjR3",
        "outputId": "adc6bc4b-e58e-4c9a-cde6-2ffbaf093da8"
      },
      "outputs": [
        {
          "output_type": "stream",
          "name": "stdout",
          "text": [
            "Downloading data from https://storage.googleapis.com/tensorflow/tf-keras-datasets/train-labels-idx1-ubyte.gz\n",
            "29515/29515 [==============================] - 0s 0us/step\n",
            "Downloading data from https://storage.googleapis.com/tensorflow/tf-keras-datasets/train-images-idx3-ubyte.gz\n",
            "26421880/26421880 [==============================] - 0s 0us/step\n",
            "Downloading data from https://storage.googleapis.com/tensorflow/tf-keras-datasets/t10k-labels-idx1-ubyte.gz\n",
            "5148/5148 [==============================] - 0s 0us/step\n",
            "Downloading data from https://storage.googleapis.com/tensorflow/tf-keras-datasets/t10k-images-idx3-ubyte.gz\n",
            "4422102/4422102 [==============================] - 0s 0us/step\n"
          ]
        }
      ],
      "source": [
        "from tensorflow.keras.datasets import fashion_mnist \n",
        "(x_train, y_train), (x_test, y_test) = fashion_mnist.load_data()"
      ]
    },
    {
      "cell_type": "code",
      "source": [
        "print('X_train shape: ', x_train.shape)\n",
        "print('Y_train shape: ', y_train.shape)\n",
        "print('X_test shape: ', x_test.shape)\n",
        "print('Y_test shape: ', y_test.shape)\n",
        "print('Labels of Train Data: ', set(y_train))\n",
        "print('Labels of  Test Data: ', set(y_test))"
      ],
      "metadata": {
        "colab": {
          "base_uri": "https://localhost:8080/"
        },
        "id": "AGgmLDYwckPC",
        "outputId": "94b0c612-a918-456f-9a02-a2a6e65399a2"
      },
      "execution_count": 2,
      "outputs": [
        {
          "output_type": "stream",
          "name": "stdout",
          "text": [
            "X_train shape:  (60000, 28, 28)\n",
            "Y_train shape:  (60000,)\n",
            "X_test shape:  (10000, 28, 28)\n",
            "Y_test shape:  (10000,)\n",
            "Labels of Train Data:  {0, 1, 2, 3, 4, 5, 6, 7, 8, 9}\n",
            "Labels of  Test Data:  {0, 1, 2, 3, 4, 5, 6, 7, 8, 9}\n"
          ]
        }
      ]
    },
    {
      "cell_type": "code",
      "source": [
        "# plotting image \n",
        "from matplotlib import pyplot as plt\n",
        "%matplotlib inline\n",
        "\n",
        "images = [x_train[0], x_test[0], x_train[1], x_test[1]]\n",
        "titles = [y_train[0], y_test[0], y_train[1], y_test[1]]\n",
        "\n",
        "for i in range(4):\n",
        "  plt.subplot(2, 2, i+1), plt.imshow(images[i], 'gray')\n",
        "  plt.title(titles[i])\n",
        "  plt.xticks([]), plt.yticks([])\n",
        "\n",
        "plt.show()\n",
        "# label 9 = ankle boots, label 0 = tshirt/top, label 2 = pullover"
      ],
      "metadata": {
        "colab": {
          "base_uri": "https://localhost:8080/",
          "height": 268
        },
        "id": "OF_1zMXkcpkA",
        "outputId": "c66b1afe-83fc-4439-ce4e-d373cfc865d5"
      },
      "execution_count": 3,
      "outputs": [
        {
          "output_type": "display_data",
          "data": {
            "text/plain": [
              "<Figure size 432x288 with 4 Axes>"
            ],
            "image/png": "[encoded data removed]"
          },
          "metadata": {}
        }
      ]
    },
    {
      "cell_type": "markdown",
      "source": [
        "## **Training Model on Fashion MNIST Using 3 layers (Input Layer, hidden layer, output layer) without using CNN**"
      ],
      "metadata": {
        "id": "eLYJrEQ9fBN5"
      }
    },
    {
      "cell_type": "code",
      "source": [
        "# import libraries\n",
        "import tensorflow as tf\n",
        "import matplotlib.pyplot as plt\n",
        "from tensorflow.keras.layers import Dense, Flatten\n",
        "from tensorflow.keras.models import Sequential\n",
        "\n",
        "# load dataset\n",
        "mnist_fashion = tf.keras.datasets.fashion_mnist\n",
        "(train_img, train_label), (test_img, test_label) = mnist_fashion.load_data()\n",
        "\n",
        "# normalize data\n",
        "train_img = train_img / 255.0\n",
        "test_img = test_img / 255.0\n",
        "\n",
        "# build model\n",
        "model = Sequential([\n",
        "        Flatten(input_shape=(28, 28)),\n",
        "        Dense(128, activation=tf.nn.relu),\n",
        "        Dense(10, activation=tf.nn.softmax)\n",
        "])\n",
        "\n",
        "# complie model \n",
        "model.compile(optimizer='adam', loss='sparse_categorical_crossentropy', metrics=['accuracy'])\n",
        "\n",
        "# fit model\n",
        "model.fit(train_img, train_label, epochs=5)\n",
        "\n",
        "# evaluation \n",
        "test_loss = model.evaluate(test_img, test_label)"
      ],
      "metadata": {
        "colab": {
          "base_uri": "https://localhost:8080/"
        },
        "id": "oX2tukKBcvSN",
        "outputId": "ffca2836-3443-4f3f-8555-7c271c486e4f"
      },
      "execution_count": 4,
      "outputs": [
        {
          "output_type": "stream",
          "name": "stdout",
          "text": [
            "Epoch 1/5\n",
            "1875/1875 [==============================] - 6s 3ms/step - loss: 0.4958 - accuracy: 0.8253\n",
            "Epoch 2/5\n",
            "1875/1875 [==============================] - 5s 2ms/step - loss: 0.3740 - accuracy: 0.8653\n",
            "Epoch 3/5\n",
            "1875/1875 [==============================] - 5s 2ms/step - loss: 0.3370 - accuracy: 0.8761\n",
            "Epoch 4/5\n",
            "1875/1875 [==============================] - 5s 2ms/step - loss: 0.3110 - accuracy: 0.8847\n",
            "Epoch 5/5\n",
            "1875/1875 [==============================] - 5s 2ms/step - loss: 0.2932 - accuracy: 0.8926\n",
            "313/313 [==============================] - 1s 2ms/step - loss: 0.3416 - accuracy: 0.8758\n"
          ]
        }
      ]
    },
    {
      "cell_type": "markdown",
      "source": [
        "# **Improving Computer Vision Accuracy using CNN**"
      ],
      "metadata": {
        "id": "RTH60wy0fT6f"
      }
    },
    {
      "cell_type": "code",
      "source": [
        "# import libraries\n",
        "import tensorflow as tf\n",
        "import matplotlib.pyplot as plt\n",
        "from tensorflow.keras.layers import Dense, Flatten, Conv2D, MaxPooling2D\n",
        "from tensorflow.keras.models import Sequential\n",
        "\n",
        "# load dataset\n",
        "mnist_fashion = tf.keras.datasets.fashion_mnist\n",
        "(train_img, train_label), (test_img, test_label) = mnist_fashion.load_data()\n",
        "\n",
        "# normalize data\n",
        "train_img = train_img.reshape(60000, 28, 28, 1)\n",
        "train_img = train_img / 255.0\n",
        "\n",
        "test_img = test_img.reshape(10000, 28, 28, 1)\n",
        "test_img = test_img / 255.0\n",
        "\n",
        "# build model\n",
        "model = Sequential([\n",
        "        Conv2D(64, (3, 3), activation='relu', input_shape=(28, 28, 1)),\n",
        "        MaxPooling2D(2, 2),\n",
        "        Conv2D(64, (3, 3), activation='relu'),\n",
        "        MaxPooling2D(2, 2),\n",
        "        Flatten(),\n",
        "        Dense(128, activation=tf.nn.relu),\n",
        "        Dense(10, activation=tf.nn.softmax)\n",
        "])\n",
        "\n",
        "model.summary()\n",
        "\n",
        "# complie model \n",
        "model.compile(optimizer='adam', loss='sparse_categorical_crossentropy', metrics=['accuracy'])\n",
        "\n",
        "# fit model\n",
        "model.fit(train_img, train_label, epochs=5)\n",
        "\n",
        "# evaluation \n",
        "test_loss = model.evaluate(test_img, test_label)"
      ],
      "metadata": {
        "colab": {
          "base_uri": "https://localhost:8080/"
        },
        "id": "64tJj1vEcz1l",
        "outputId": "94c8be96-25dc-4380-9fb1-bbfaded1fda8"
      },
      "execution_count": 5,
      "outputs": [
        {
          "output_type": "stream",
          "name": "stdout",
          "text": [
            "Model: \"sequential_1\"\n",
            "_________________________________________________________________\n",
            " Layer (type)                Output Shape              Param #   \n",
            "=================================================================\n",
            " conv2d (Conv2D)             (None, 26, 26, 64)        640       \n",
            "                                                                 \n",
            " max_pooling2d (MaxPooling2D  (None, 13, 13, 64)       0         \n",
            " )                                                               \n",
            "                                                                 \n",
            " conv2d_1 (Conv2D)           (None, 11, 11, 64)        36928     \n",
            "                                                                 \n",
            " max_pooling2d_1 (MaxPooling  (None, 5, 5, 64)         0         \n",
            " 2D)                                                             \n",
            "                                                                 \n",
            " flatten_1 (Flatten)         (None, 1600)              0         \n",
            "                                                                 \n",
            " dense_2 (Dense)             (None, 128)               204928    \n",
            "                                                                 \n",
            " dense_3 (Dense)             (None, 10)                1290      \n",
            "                                                                 \n",
            "=================================================================\n",
            "Total params: 243,786\n",
            "Trainable params: 243,786\n",
            "Non-trainable params: 0\n",
            "_________________________________________________________________\n",
            "Epoch 1/5\n",
            "1875/1875 [==============================] - 94s 50ms/step - loss: 0.4346 - accuracy: 0.8431\n",
            "Epoch 2/5\n",
            "1875/1875 [==============================] - 92s 49ms/step - loss: 0.2935 - accuracy: 0.8927\n",
            "Epoch 3/5\n",
            "1875/1875 [==============================] - 92s 49ms/step - loss: 0.2494 - accuracy: 0.9079\n",
            "Epoch 4/5\n",
            "1875/1875 [==============================] - 90s 48ms/step - loss: 0.2176 - accuracy: 0.9193\n",
            "Epoch 5/5\n",
            "1875/1875 [==============================] - 91s 49ms/step - loss: 0.1904 - accuracy: 0.9284\n",
            "313/313 [==============================] - 4s 14ms/step - loss: 0.2673 - accuracy: 0.9018\n"
          ]
        }
      ]
    },
    {
      "cell_type": "markdown",
      "source": [
        "**Without CNN, we get 89% accuracy on training and 87% accuracy on testing**\n",
        "\n",
        "**With CNN, we get 92% accuracy on training and 90% accuracy on testing**"
      ],
      "metadata": {
        "id": "HC8lCwWmfaPc"
      }
    },
    {
      "cell_type": "code",
      "source": [],
      "metadata": {
        "id": "zmWYLLRSdC38"
      },
      "execution_count": null,
      "outputs": []
    }
  ]
}